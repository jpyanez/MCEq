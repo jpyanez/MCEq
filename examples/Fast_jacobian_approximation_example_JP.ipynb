{
 "cells": [
  {
   "cell_type": "markdown",
   "metadata": {},
   "source": [
    "Computation of an accelerated MCEq parametrization\n",
    "-----------------------------------------------------"
   ]
  },
  {
   "cell_type": "code",
   "execution_count": 1,
   "metadata": {
    "collapsed": true
   },
   "outputs": [],
   "source": [
    "import os, sys\n",
    "my_mceq_location = '/home/jp/projects/mceq/MCEq_jp'\n",
    "my_hpmceq_location = '/home/jp/projects/mceq/hp-IC-MCEq'\n",
    "os.chdir(my_mceq_location)"
   ]
  },
  {
   "cell_type": "code",
   "execution_count": 2,
   "metadata": {
    "collapsed": false
   },
   "outputs": [],
   "source": [
    "#basic imports and jupyter setup\n",
    "%load_ext autoreload\n",
    "%matplotlib inline\n",
    "%autoreload 2\n",
    "import os\n",
    "import matplotlib.pyplot as plt\n",
    "import numpy as np\n",
    "import sys\n",
    "import scipy\n",
    "from copy import deepcopy\n",
    "#path to MCEq (it makes sense to put it in the same base directory as this project)\n",
    "sys.path.append('/home/jp/projects/mceq/hp-IC-MCEq/references')\n",
    "sys.path.append('/home/jp/projects/mceq/hp-IC-MCEq/calculations')\n",
    "\n",
    "#import solver related modules\n",
    "import MCEq\n",
    "reload(MCEq)\n",
    "from MCEq.core import MCEqRun\n",
    "from mceq_config import config, mceq_config_without\n",
    "#import primary model choices\n",
    "import CRFluxModels as pm\n"
   ]
  },
  {
   "cell_type": "markdown",
   "metadata": {},
   "source": [
    "Create an instance of an MCEqRun class. Most of its areguments are contained in the `config` dictionary from the `mceq_config` module. Look into or edit `mceq_config.py`.\n",
    "\n",
    "If the initialization succeeds it will print out some information according to the debug level. "
   ]
  },
  {
   "cell_type": "code",
   "execution_count": 3,
   "metadata": {
    "collapsed": false
   },
   "outputs": [
    {
     "ename": "AttributeError",
     "evalue": "'module' object has no attribute 'GlobalSplineFitBeta'",
     "output_type": "error",
     "traceback": [
      "\u001b[0;31m---------------------------------------------------------------------------\u001b[0m",
      "\u001b[0;31mAttributeError\u001b[0m                            Traceback (most recent call last)",
      "\u001b[0;32m<ipython-input-3-b1d5c9e3dff6>\u001b[0m in \u001b[0;36m<module>\u001b[0;34m()\u001b[0m\n\u001b[1;32m      4\u001b[0m \u001b[0;31m#primary cosmic ray flux model\u001b[0m\u001b[0;34m\u001b[0m\u001b[0;34m\u001b[0m\u001b[0m\n\u001b[1;32m      5\u001b[0m \u001b[0;31m#support a tuple (primary model class (not instance!), arguments)\u001b[0m\u001b[0;34m\u001b[0m\u001b[0;34m\u001b[0m\u001b[0m\n\u001b[0;32m----> 6\u001b[0;31m \u001b[0mprimary_model\u001b[0m \u001b[0;34m=\u001b[0m \u001b[0;34m(\u001b[0m\u001b[0mpm\u001b[0m\u001b[0;34m.\u001b[0m\u001b[0mGlobalSplineFitBeta\u001b[0m\u001b[0;34m,\u001b[0m \u001b[0mNone\u001b[0m\u001b[0;34m)\u001b[0m\u001b[0;34m,\u001b[0m\u001b[0;34m\u001b[0m\u001b[0m\n\u001b[0m\u001b[1;32m      7\u001b[0m \u001b[0;31m# Zenith angle in degrees. 0=vertical, 90=horizontal\u001b[0m\u001b[0;34m\u001b[0m\u001b[0;34m\u001b[0m\u001b[0m\n\u001b[1;32m      8\u001b[0m \u001b[0mtheta_deg\u001b[0m\u001b[0;34m=\u001b[0m\u001b[0;36m0.0\u001b[0m\u001b[0;34m,\u001b[0m\u001b[0;34m\u001b[0m\u001b[0m\n",
      "\u001b[0;31mAttributeError\u001b[0m: 'module' object has no attribute 'GlobalSplineFitBeta'"
     ]
    }
   ],
   "source": [
    "mceq_run = MCEqRun(\n",
    "#provide the string of the interaction model\n",
    "interaction_model='SIBYLL2.3c',\n",
    "#primary cosmic ray flux model\n",
    "#support a tuple (primary model class (not instance!), arguments)\n",
    "primary_model = (pm.GlobalSplineFitBeta, None),\n",
    "# Zenith angle in degrees. 0=vertical, 90=horizontal\n",
    "theta_deg=0.0,\n",
    "#density model\n",
    "density_model=('CORSIKA', ('BK_USStd', None)),\n",
    "#expand the rest of the options from mceq_config.py\n",
    "**mceq_config_without(['density_model'])\n",
    ")"
   ]
  },
  {
   "cell_type": "markdown",
   "metadata": {},
   "source": [
    "__________\n",
    "\n",
    "If everything succeeds than the last message should be something like\n",
    "\n",
    "`MCEqRun::set_primary_model():  HillasGaisser2012 H3a`.\n",
    "\n",
    "Definition of the Barr phase-space splitting (Figure 2 and 3 of their paper)\n",
    "--------------------------------------------------------------------------------"
   ]
  },
  {
   "cell_type": "code",
   "execution_count": 3,
   "metadata": {
    "collapsed": true
   },
   "outputs": [],
   "source": [
    "# Global Barr parameter table \n",
    "# format (x_min, x_max, E_min, E_max) | x is x_lab= E_pi/E, E projectile-air interaction energy\n",
    "barr = {\n",
    "    'a': [(0.0, 0.5, 0.00, 8.0)],\n",
    "    'b1': [(0.5, 1.0, 0.00, 8.0)],\n",
    "    'b2': [(0.6, 1.0, 8.00, 15.0)],\n",
    "    'c': [(0.2, 0.6, 8.00, 15.0)],\n",
    "    'd1': [(0.0, 0.2, 8.00, 15.0)],\n",
    "    'd2': [(0.0, 0.1, 15.0, 30.0)],\n",
    "    'd3': [(0.1, 0.2, 15.0, 30.0)],\n",
    "    'e': [(0.2, 0.6, 15.0, 30.0)],\n",
    "    'f': [(0.6, 1.0, 15.0, 30.0)],\n",
    "    'g': [(0.0, 0.1, 30.0, 1e11)],\n",
    "    'h1': [(0.1, 1.0, 30.0, 500.)],\n",
    "    'h2': [(0.1, 1.0, 500.0, 1e11)],\n",
    "    'i': [(0.1, 1.0, 500.0, 1e11)],\n",
    "    'w1': [(0.0, 1.0, 0.00, 8.0)],\n",
    "    'w2': [(0.0, 1.0, 8.00, 15.0)],\n",
    "    'w3': [(0.0, 0.1, 15.0, 30.0)],\n",
    "    'w4': [(0.1, 0.2, 15.0, 30.0)],\n",
    "    'w5': [(0.0, 0.1, 30.0, 500.)],\n",
    "    'w6': [(0.0, 0.1, 500., 1e11)],\n",
    "    'x': [(0.2, 1.0, 15.0, 30.0)],\n",
    "    'y1': [(0.1, 1.0, 30.0, 500.)],\n",
    "    'y2': [(0.1, 1.0, 500., 1e11)],\n",
    "    'z': [(0.1, 1.0, 500., 1e11)],\n",
    "    'ch_a': [(0.0, 0.1, 0., 1e11)],\n",
    "    'ch_b': [(0.1, 1.0, 0., 1e11)],\n",
    "    'ch_e': [(0.1, 1.0, 800., 1e11)],\n",
    "}\n",
    "\n",
    "\n",
    "def barr_unc(xmat, egrid, pname, value):\n",
    "    \"\"\"Implementation of hadronic uncertainties as in Barr et al. PRD 74 094009 (2006)\n",
    "\n",
    "    The names of parameters are explained in Fig. 2 and Fig. 3 in the paper.\"\"\"\n",
    "\n",
    "\n",
    "    # Energy dependence\n",
    "    u = lambda E, val, ethr, maxerr, expected_err: val*min(\n",
    "        maxerr/expected_err,\n",
    "        0.122/expected_err*np.log10(E / ethr)) if E > ethr else 0.\n",
    "\n",
    "    modmat = np.ones_like(xmat)\n",
    "    modmat[np.tril_indices(xmat.shape[0], -1)] = 0.\n",
    "\n",
    "    for minx, maxx, mine, maxe in barr[pname]:\n",
    "        eidcs = np.where((mine < egrid) & (egrid <= maxe))[0]\n",
    "        for eidx in eidcs:\n",
    "            xsel = np.where((xmat[:eidx + 1, eidx] >= minx) &\n",
    "                            (xmat[:eidx + 1, eidx] <= maxx))[0]\n",
    "            if not np.any(xsel):\n",
    "                continue\n",
    "            if pname in ['i', 'z']:\n",
    "                modmat[xsel, eidx] += u(egrid[eidx], value, 500., 0.5, 0.122)\n",
    "            elif pname in ['ch_e']:\n",
    "                modmat[xsel, eidx] += u(egrid[eidx], value, 800., 0.3, 0.25)\n",
    "            else:\n",
    "                modmat[xsel, eidx] += value\n",
    "\n",
    "    return modmat"
   ]
  },
  {
   "cell_type": "markdown",
   "metadata": {},
   "source": [
    "Compare linear extrapolation to properly computed variations\n",
    "---------------------------------------------------------------"
   ]
  },
  {
   "cell_type": "code",
   "execution_count": 28,
   "metadata": {
    "collapsed": true
   },
   "outputs": [],
   "source": [
    "# Compute central flux\n",
    "# Reset all modifications\n",
    "mceq_run.set_theta_deg(60.) # is cos_theta=0.5\n",
    "mceq_run.unset_mod_pprod()\n",
    "# Print the current state of particle production (pprod) modifications\n",
    "mceq_run.y.print_mod_pprod()\n",
    "# Run solver\n",
    "mceq_run.solve()\n",
    "# Store flux \n",
    "numu_flux_central = mceq_run.get_solution('total_numu',0) #+ mceq_run.get_solution('total_antinumu',0)\n",
    "mupl_flux_central = mceq_run.get_solution('total_mu+',0)\n",
    "mu_ratio_central = mceq_run.get_solution('total_mu+',0)/mceq_run.get_solution('total_mu-',0)"
   ]
  },
  {
   "cell_type": "code",
   "execution_count": 25,
   "metadata": {
    "collapsed": false
   },
   "outputs": [
    {
     "name": "stdout",
     "output_type": "stream",
     "text": [
      "\n",
      " \n",
      " This is the printout from the print_mod_pprod routine\n",
      "0: 2112 -> -211, func: isospin, arg: ('h2', 0.1)\n",
      "1: 2112 -> -211, func: isospin, arg: ('h1', 0.1)\n",
      "1: 2212 -> 211, func: barr_unc, arg: ('h2', 0.1)\n",
      "2: 2212 -> 211, func: barr_unc, arg: ('h1', 0.1)\n",
      "\n",
      " \n",
      "\n"
     ]
    }
   ],
   "source": [
    "# Modify pion production for Barr variable 'h' by +10%\n",
    "mceq_run.unset_mod_pprod(dont_fill=True)\n",
    "# Modify proton-air -> pi+ (211) for 'h1', 'h2' patches simultaneously\n",
    "mceq_run.set_mod_pprod(2212,211,barr_unc,('h1',0.1))\n",
    "mceq_run.set_mod_pprod(2212,211,barr_unc,('h2',0.1))\n",
    "# Populate the modifications to the matrices by re-filling the interaction matrix\n",
    "mceq_run._init_default_matrices(skip_D_matrix=True)\n",
    "# Print the changes\n",
    "print \"\\n \\n This is the printout from the print_mod_pprod routine\"\n",
    "mceq_run.y.print_mod_pprod()\n",
    "print \"\\n \\n\"\n",
    "# Run solver\n",
    "mceq_run.solve()\n",
    "# Save flux\n",
    "numu_flux_mod_pions = mceq_run.get_solution('total_numu',0)\n",
    "mupl_flux_mod_pions = mceq_run.get_solution('total_mu+',0)\n",
    "mu_ratio_mod_pions = mceq_run.get_solution('total_mu+',0)/mceq_run.get_solution('total_mu-',0)"
   ]
  },
  {
   "cell_type": "markdown",
   "metadata": {},
   "source": [
    "Load the precomputed flux interpolations from file\n",
    "----------------------------------------------------"
   ]
  },
  {
   "cell_type": "code",
   "execution_count": 6,
   "metadata": {
    "collapsed": true
   },
   "outputs": [],
   "source": [
    "import cPickle as pickle\n",
    "from bz2 import BZ2File\n",
    "\n",
    "store = pickle.load(BZ2File('../MCEqApps/hp_MCEq_superfast_jacobians_20171101_1e7_GSF_sib23c.ppd.bz2')) "
   ]
  },
  {
   "cell_type": "code",
   "execution_count": 7,
   "metadata": {
    "collapsed": true
   },
   "outputs": [],
   "source": [
    "# Truncate energy grid as used for interpolation\n",
    "tr = np.where(mceq_run.e_grid < 1e5)\n",
    "etr = mceq_run.e_grid[tr]"
   ]
  },
  {
   "cell_type": "code",
   "execution_count": 8,
   "metadata": {
    "collapsed": true
   },
   "outputs": [],
   "source": [
    "# This is the only thing needed\n",
    "def get_flux(nuspec, E, cos_theta, barr_par, barr_v):\n",
    "    st_ids = {'mupl' : 0,\n",
    "              'mumi' : 2,\n",
    "              'numu' : 4,\n",
    "              'anumu': 6,\n",
    "              'nue'  : 8,\n",
    "              'anue' : 10}\n",
    "    st_id = st_ids[nuspec]\n",
    "    flux_spl, d_spl = store[barr_par][st_id:st_id + 2]\n",
    "    \n",
    "    return flux_spl(cos_theta, np.log(E)) + barr_v * d_spl(cos_theta, np.log(E))"
   ]
  },
  {
   "cell_type": "code",
   "execution_count": 27,
   "metadata": {
    "collapsed": false
   },
   "outputs": [
    {
     "data": {
      "text/plain": [
       "<matplotlib.legend.Legend at 0x7fc2f9025c10>"
      ]
     },
     "execution_count": 27,
     "metadata": {},
     "output_type": "execute_result"
    },
    {
     "data": {
      "image/png": "[encoded data removed]",
      "text/plain": [
       "<matplotlib.figure.Figure at 0x7fc2f8a14910>"
      ]
     },
     "metadata": {},
     "output_type": "display_data"
    }
   ],
   "source": [
    "plt.title('Comparison of methods (muon neutrinos)')\n",
    "plt.semilogx(etr, numu_flux_mod_pions[tr]/numu_flux_central[tr], label='correct (kind of)')\n",
    "plt.semilogx(etr, get_flux('numu', etr, 0.5, 'h+', 0.1)[0]/get_flux('numu', etr, 0.5, 'h+', 0.0)[0],\n",
    "             label='fast', ls='--')\n",
    "plt.ylabel(r'$\\phi(\\delta H(\\pi^+) = 0.3)\\ /\\ \\phi({\\rm nominal})$ ')\n",
    "plt.xlabel('Neutrino Energy (GeV)')\n",
    "plt.legend()"
   ]
  },
  {
   "cell_type": "code",
   "execution_count": 26,
   "metadata": {
    "collapsed": false
   },
   "outputs": [
    {
     "data": {
      "text/plain": [
       "<matplotlib.legend.Legend at 0x7fc2f8a4ab50>"
      ]
     },
     "execution_count": 26,
     "metadata": {},
     "output_type": "execute_result"
    },
    {
     "data": {
      "image/png": "[encoded data removed]",
      "text/plain": [
       "<matplotlib.figure.Figure at 0x7fc2f8e21dd0>"
      ]
     },
     "metadata": {},
     "output_type": "display_data"
    }
   ],
   "source": [
    "plt.title('Comparison of methods (muons)')\n",
    "plt.semilogx(etr, mupl_flux_mod_pions[tr]/mupl_flux_central[tr], label='correct (kind of)')\n",
    "plt.semilogx(etr, get_flux('mupl', etr, 0.5, 'h+', 0.1)[0]/get_flux('mupl', etr, 0.5, 'h+', 0.0)[0],\n",
    "             label='fast', ls='--')\n",
    "plt.ylabel(r'$\\phi(\\delta H(\\pi^+) = 0.3)\\ /\\ \\phi({\\rm nominal})$ ')\n",
    "plt.xlabel('Neutrino Energy (GeV)')\n",
    "plt.legend()"
   ]
  },
  {
   "cell_type": "code",
   "execution_count": 31,
   "metadata": {
    "collapsed": false
   },
   "outputs": [
    {
     "data": {
      "text/plain": [
       "<matplotlib.legend.Legend at 0x7fc2f87f1c10>"
      ]
     },
     "execution_count": 31,
     "metadata": {},
     "output_type": "execute_result"
    },
    {
     "data": {
      "image/png": "[encoded data removed]",
      "text/plain": [
       "<matplotlib.figure.Figure at 0x7fc2f836d690>"
      ]
     },
     "metadata": {},
     "output_type": "display_data"
    }
   ],
   "source": [
    "plt.title('Comparison of methods (muon ratio)')\n",
    "plt.semilogx(etr, mu_ratio_mod_pions[tr]/mu_ratio_central[tr], label='correct (kind of)')\n",
    "plt.semilogx(etr, \n",
    "    (get_flux('mupl', etr, 0.5, 'h+', 0.1)[0]/get_flux('mumi', etr, 0.5, 'h+', 0.1)[0]) /\n",
    "    (get_flux('mupl', etr, 0.5, 'h+', 0.0)[0]/get_flux('mumi', etr, 0.5, 'h+', 0.0)[0]),\n",
    "     label='fast', ls='--')\n",
    "plt.ylabel(r'$\\phi(\\delta H(\\pi^+) = 0.3)\\ /\\ \\phi({\\rm nominal})$ ')\n",
    "plt.xlabel('Neutrino Energy (GeV)')\n",
    "plt.legend()"
   ]
  },
  {
   "cell_type": "code",
   "execution_count": 10,
   "metadata": {
    "collapsed": false
   },
   "outputs": [
    {
     "name": "stdout",
     "output_type": "stream",
     "text": [
      "The slowest run took 11.84 times longer than the fastest. This could mean that an intermediate result is being cached.\n",
      "10000 loops, best of 3: 19 µs per loop\n"
     ]
    }
   ],
   "source": [
    "%timeit get_flux('anumu', etr, [0.1, 0.3, 0.5], 'h-', 0.3)"
   ]
  },
  {
   "cell_type": "code",
   "execution_count": null,
   "metadata": {
    "collapsed": true
   },
   "outputs": [],
   "source": []
  }
 ],
 "metadata": {
  "kernelspec": {
   "display_name": "Python 2",
   "language": "python",
   "name": "python2"
  },
  "language_info": {
   "codemirror_mode": {
    "name": "ipython",
    "version": 2
   },
   "file_extension": ".py",
   "mimetype": "text/x-python",
   "name": "python",
   "nbconvert_exporter": "python",
   "pygments_lexer": "ipython2",
   "version": "2.7.13"
  }
 },
 "nbformat": 4,
 "nbformat_minor": 1
}
