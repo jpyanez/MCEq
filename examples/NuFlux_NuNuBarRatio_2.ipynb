{
 "cells": [
  {
   "cell_type": "markdown",
   "metadata": {
    "collapsed": false,
    "deletable": true,
    "editable": true
   },
   "source": [
    "This example illustrates the principle of the muon fit\n",
    "--------------------------------------------------------------\n",
    "\n",
    "Part of the ingredients is a modification function, which in principle, can have an arbitrary number of parameters.\n",
    "We start with a simple one, just a linear up-/down-scaling, using one parameter for each particle species.\n",
    "\n",
    "The particles, which we try to rescale are $\\pi^+$, $\\pi^-$, K$^+$ and K$^-$. We will fit the muon spectrum\n",
    "in all accesible zenith bins and the muon charge ratio.\n",
    "\n",
    "Only protons shall be modified, since particle production by neutrons will be adjusted according\n",
    "to isospin symmetries."
   ]
  },
  {
   "cell_type": "code",
   "execution_count": 72,
   "metadata": {
    "collapsed": true
   },
   "outputs": [],
   "source": [
    "# Added by JP\n",
    "import os, sys\n",
    "os.chdir('/home/jp/projects/mceq/MCEq_jp')"
   ]
  },
  {
   "cell_type": "code",
   "execution_count": 73,
   "metadata": {
    "collapsed": false,
    "deletable": true,
    "editable": true
   },
   "outputs": [
    {
     "name": "stdout",
     "output_type": "stream",
     "text": [
      "The autoreload extension is already loaded. To reload it, use:\n",
      "  %reload_ext autoreload\n"
     ]
    }
   ],
   "source": [
    "#basic imports and jupyter setup\n",
    "%load_ext autoreload\n",
    "%matplotlib inline\n",
    "%autoreload 2\n",
    "import os\n",
    "import matplotlib.pyplot as plt\n",
    "import numpy as np\n",
    "import sys\n",
    "import scipy\n",
    "#path to MCEq (it makes sense to put it in the same base directory as this project)\n",
    "#sys.path.append('MCEq')\n",
    "#os.chdir('..')\n",
    "sys.path.append('/home/jp/projects/mceq/hp-IC-MCEq/references')\n",
    "sys.path.append('/home/jp/projects/mceq/hp-IC-MCEq/calculations')\n",
    "\n",
    "#import solver related modules\n",
    "import MCEq\n",
    "reload(MCEq)\n",
    "from MCEq.core import MCEqRun\n",
    "from mceq_config import config, mceq_config_without\n",
    "#import primary model choices\n",
    "import CRFluxModels as pm\n"
   ]
  },
  {
   "cell_type": "code",
   "execution_count": 74,
   "metadata": {
    "collapsed": true
   },
   "outputs": [],
   "source": [
    "import iminuit"
   ]
  },
  {
   "cell_type": "code",
   "execution_count": 75,
   "metadata": {
    "collapsed": false,
    "deletable": true,
    "editable": true
   },
   "outputs": [],
   "source": [
    "#import muon and neutrino data\n",
    "import references as ref"
   ]
  },
  {
   "cell_type": "code",
   "execution_count": 76,
   "metadata": {
    "collapsed": false,
    "deletable": true,
    "editable": true
   },
   "outputs": [],
   "source": [
    "#import re_publication_style\n",
    "# I use nVidia GPUs for compute in 32-bit\n",
    "config['FP_precision'] = 32\n",
    "config['kernel_config'] = 'MKL' #'CUDA'\n",
    "# If you have multiple of those, choose an ID\n",
    "config['GPU_id'] = 0\n",
    "# Speed-up of computation. The precision loss from these options is small ~2%\n",
    "config[\"hybrid_crossover\"] = 0.5\n",
    "\n",
    "# JP defined this here cuz it didn't exist. Should check later if it works fine\n",
    "#config['vetos'] = {}\n",
    "\n",
    "#config[\"vetos\"][\"allowed_projectiles\"] = [2212, 2112, 211, 321, 130]\n",
    "# cache of atmospheric profiles saves 3-4 seconds for each zenith bins and it needs\n",
    "# should be used. If used in parallel computations, it has to be complete, otherwise\n",
    "# multiple nodes will try to write to the same time concurrently.\n",
    "config[\"use_atm_cache\"] = True\n",
    "# Use isospin symmetries to derive neutron modifications from protons\n",
    "config[\"use_isospin_sym\"] = True\n",
    "\n",
    "config[\"debug_level\"] = 0\n",
    "\n",
    "config['low_energy_extension']['enable'] = True\n",
    "config['compact_mode'] = False"
   ]
  },
  {
   "cell_type": "code",
   "execution_count": 77,
   "metadata": {
    "collapsed": false,
    "deletable": true,
    "editable": true
   },
   "outputs": [
    {
     "name": "stdout",
     "output_type": "stream",
     "text": [
      "DecayYields::_load(): Warning: no decay distributions for 2112 found.\n",
      "DecayYields::_load(): Warning: no decay distributions for -2112 found.\n"
     ]
    }
   ],
   "source": [
    "mceq_run = MCEqRun(\n",
    "# Choose the best interaction mode (we can repeat the fit for SIBYLL 2.1 for consistency as well)\n",
    "#interaction_model='DPMJETIII',\n",
    "interaction_model='SIBYLL2.3',\n",
    "#primary cosmic ray flux model\n",
    "#support a tuple (primary model class (not instance!), arguments)\n",
    "primary_model=(pm.Thunman, 'TIG'),\n",
    "# Zenith angle in degrees. 0=vertical, 90=horizontal\n",
    "theta_deg=20.,\n",
    "#expand the rest of the options from mceq_config.py\n",
    "**config\n",
    ")"
   ]
  },
  {
   "cell_type": "code",
   "execution_count": 78,
   "metadata": {
    "collapsed": true
   },
   "outputs": [],
   "source": [
    "e_grid = mceq_run.y.e_grid\n",
    "mag=3"
   ]
  },
  {
   "cell_type": "code",
   "execution_count": 79,
   "metadata": {
    "collapsed": false,
    "scrolled": true
   },
   "outputs": [],
   "source": [
    "cos_theta_range = [0,1]\n",
    "theta_points = 15\n",
    "cos_theta_angles = np.linspace(cos_theta_range[0],\n",
    "                           cos_theta_range[1],\n",
    "                           theta_points)\n",
    "theta_angles = np.rad2deg(np.arccos(cos_theta_angles))\n",
    "theta_angles = np.concatenate((theta_angles, -theta_angles[::-1][1:]))\n",
    "\n",
    "\n",
    "numu    = np.zeros([theta_angles.size, e_grid.size])\n",
    "numubar = np.zeros_like(numu)\n",
    "for i, one_theta in enumerate(theta_angles):\n",
    "    mceq_run.set_theta_deg(one_theta)\n",
    "    mceq_run.solve()\n",
    "    numu[i,:] = mceq_run.get_solution('total_numu', mag)\n",
    "    numubar[i,:] = mceq_run.get_solution('total_antinumu', mag)\n"
   ]
  },
  {
   "cell_type": "code",
   "execution_count": 80,
   "metadata": {
    "collapsed": false
   },
   "outputs": [
    {
     "data": {
      "text/plain": [
       "(0.1, 4)"
      ]
     },
     "execution_count": 80,
     "metadata": {},
     "output_type": "execute_result"
    },
    {
     "data": {
      "image/png": "[encoded data removed]",
      "text/plain": [
       "<matplotlib.figure.Figure at 0x7f0da6dadf50>"
      ]
     },
     "metadata": {},
     "output_type": "display_data"
    }
   ],
   "source": [
    "plt.plot(e_grid,numu.sum(axis=0))\n",
    "plt.plot(e_grid,numubar.sum(axis=0))\n",
    "plt.xlim(0, 10**3)\n",
    "plt.yscale('log')\n",
    "plt.ylim(0.1, 4)\n"
   ]
  },
  {
   "cell_type": "code",
   "execution_count": 81,
   "metadata": {
    "collapsed": false
   },
   "outputs": [
    {
     "name": "stderr",
     "output_type": "stream",
     "text": [
      "/home/jp/anaconda2/lib/python2.7/site-packages/ipykernel/__main__.py:1: RuntimeWarning: invalid value encountered in divide\n",
      "  if __name__ == '__main__':\n"
     ]
    },
    {
     "data": {
      "text/plain": [
       "<matplotlib.text.Text at 0x7f0da0271c10>"
      ]
     },
     "execution_count": 81,
     "metadata": {},
     "output_type": "execute_result"
    },
    {
     "data": {
      "image/png": "[encoded data removed]",
      "text/plain": [
       "<matplotlib.figure.Figure at 0x7f0da033ae90>"
      ]
     },
     "metadata": {},
     "output_type": "display_data"
    }
   ],
   "source": [
    "plt.plot(e_grid,numu.sum(axis=0)/numubar.sum(axis=0))\n",
    "#plt.xlim(0, 3)\n",
    "plt.xlim(1, 10**3)\n",
    "plt.ylim(0,3)\n",
    "plt.xscale('log')\n",
    "plt.xlabel('log(E/GeV)')\n",
    "plt.ylabel('NuMu/NuMuBar')\n",
    "plt.title('TIG + SIBYLL2.3')"
   ]
  },
  {
   "cell_type": "code",
   "execution_count": 82,
   "metadata": {
    "collapsed": false
   },
   "outputs": [
    {
     "name": "stderr",
     "output_type": "stream",
     "text": [
      "/home/jp/anaconda2/lib/python2.7/site-packages/ipykernel/__main__.py:1: RuntimeWarning: invalid value encountered in divide\n",
      "  if __name__ == '__main__':\n"
     ]
    },
    {
     "data": {
      "text/plain": [
       "<matplotlib.text.Text at 0x7f0dac9fa290>"
      ]
     },
     "execution_count": 82,
     "metadata": {},
     "output_type": "execute_result"
    },
    {
     "data": {
      "image/png": "[encoded data removed]",
      "text/plain": [
       "<matplotlib.figure.Figure at 0x7f0d9fd21490>"
      ]
     },
     "metadata": {},
     "output_type": "display_data"
    }
   ],
   "source": [
    "plt.plot(e_grid,numu[7,:]/numubar[7,:])\n",
    "plt.xlim(1, 10**3)\n",
    "plt.ylim(0,3)\n",
    "plt.xscale('log')\n",
    "plt.xlabel('log(E/GeV)')\n",
    "plt.ylabel('NuMu/NuMuBar')\n",
    "plt.title('TIG + SIBYLL2.3')"
   ]
  },
  {
   "cell_type": "code",
   "execution_count": null,
   "metadata": {
    "collapsed": true
   },
   "outputs": [],
   "source": []
  }
 ],
 "metadata": {
  "kernelspec": {
   "display_name": "Python 2",
   "language": "python",
   "name": "python2"
  },
  "language_info": {
   "codemirror_mode": {
    "name": "ipython",
    "version": 2
   },
   "file_extension": ".py",
   "mimetype": "text/x-python",
   "name": "python",
   "nbconvert_exporter": "python",
   "pygments_lexer": "ipython2",
   "version": "2.7.13"
  }
 },
 "nbformat": 4,
 "nbformat_minor": 0
}
